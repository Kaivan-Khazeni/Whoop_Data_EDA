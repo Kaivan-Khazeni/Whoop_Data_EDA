{
  "nbformat": 4,
  "nbformat_minor": 0,
  "metadata": {
    "colab": {
      "name": "mod5_kaivan.ipynb",
      "provenance": [],
      "toc_visible": true,
      "authorship_tag": "ABX9TyNMpLLY4Qpumrdq6Rl6/DV7",
      "include_colab_link": true
    },
    "kernelspec": {
      "name": "python3",
      "display_name": "Python 3"
    },
    "language_info": {
      "name": "python"
    }
  },
  "cells": [
    {
      "cell_type": "markdown",
      "metadata": {
        "id": "view-in-github",
        "colab_type": "text"
      },
      "source": [
        "<a href=\"https://colab.research.google.com/github/Kaivan-Khazeni/Whoop_Data_EDA/blob/main/mod5_kaivan.ipynb\" target=\"_parent\"><img src=\"https://colab.research.google.com/assets/colab-badge.svg\" alt=\"Open In Colab\"/></a>"
      ]
    },
    {
      "cell_type": "code",
      "metadata": {
        "id": "zosqhKZcjuK3",
        "outputId": "4933cd4d-041f-42e3-d429-d39fd3912733",
        "colab": {
          "base_uri": "https://localhost:8080/"
        }
      },
      "source": [
        "import pandas as pd\n",
        "import io\n",
        "%matplotlib inline\n",
        "import matplotlib.pyplot as plt\n",
        "plt.style.use('seaborn-whitegrid')\n",
        "\n",
        "import numpy as np\n",
        "import statsmodels.formula.api as smf\n",
        "import seaborn as sb\n"
      ],
      "execution_count": null,
      "outputs": [
        {
          "output_type": "stream",
          "name": "stderr",
          "text": [
            "/usr/local/lib/python3.7/dist-packages/statsmodels/tools/_testing.py:19: FutureWarning: pandas.util.testing is deprecated. Use the functions in the public API at pandas.testing instead.\n",
            "  import pandas.util.testing as tm\n"
          ]
        }
      ]
    },
    {
      "cell_type": "markdown",
      "metadata": {
        "id": "tPHGwNP7j_RL"
      },
      "source": [
        "#Module 5\n",
        "* Name : Kaivan Khazeni\n",
        "* uID : u1135484\n",
        "* Date : April 17th"
      ]
    },
    {
      "cell_type": "markdown",
      "metadata": {
        "id": "j3JP0hqukL5b"
      },
      "source": [
        "Goal of Module\n",
        "* \"Identify an example of a news story, op-ed, academic article, etc. making strong causal claims and do an EDA to explore alternative causal mechanisms\""
      ]
    },
    {
      "cell_type": "markdown",
      "metadata": {
        "id": "zXQ1WgZBkT8o"
      },
      "source": [
        "#SUMMARY AND IDENTITY\n",
        "[Article found Regarding HRV and Sleep](https://academic.oup.com/sleep/article/36/12/1939/2709419)\n",
        "* The article found above tackles the metric **Heart Rate Variability** which is the bodies measurable response in terms of sympathetic and parasympathetic nervous systems.  These systems are linked to a bodies stress in physical and mental/emotional sense, along with the bodies ability to be in a relaxed state.\n",
        "* HRV can increase and decrease over time, and HRV is different for everyone.  This means that HRV will change but the value is arbitrary.  A personal value of mine varies between 70-95 on any given day, where as Age, Sex, and other metrics can change those values dramatically (as a baseline).\n",
        "\n",
        "* Claim of Article: \"Consequently, sleep quality is an important predictor for the\n",
        "autonomic development even more important than sleep duration.\"\n",
        "* This claim is stating that while sleep duration is important, sleep quality is more indicative of an increase in HRV.\n",
        "* The authors of this article ran an experiment, therefore, Hill's casual claims in the article from class states that this claim was based off of experimentation.  This experiment has led to a strength claim of correlation.  The experiment was consisted of data that had N = 135 nights of sleep.\n",
        "* For experiments, the authors cross selected Sleep Quality and Sleep Duration as the model with the dependent variable consisting of HRV (which we will also run on my personal data from Whoop).\n",
        "* These experiments found paired t-test values to show significance.  \n",
        "* \"Nevertheless, reported sleep duration was not associated with\n",
        "HRV outcome. Longitudinal results showed the same trend,\n",
        "particularly with a higher sympathovagal balance for those with\n",
        "low sleep quality. Consequently, low sleep quality is related to\n",
        "a more unhealthy change in autonomic balance over one year\"\n",
        "\n",
        "* The primary causal relationship was simple causal, where X causes Y, and Sleep Quality or increase in Sleep Quality causes increase in HRV"
      ]
    },
    {
      "cell_type": "markdown",
      "metadata": {
        "id": "hkXsyi7IzbLB"
      },
      "source": [
        "Alternative Casual Relationship (via Hill's framework)\n",
        "* The above article used experimentation and strength of correlation/significance to make their claim.  In this case, it is X causes Y with a simple causation, that sleep quality ( or high level quality ) causes increase in HRV\n",
        "* An alternative would be X causes A and A causes Y with another metric, sleep consistency (Mediation is the mechanism).\n",
        "* This could also apply to Confounding causation, where A causes X and Y, meaning some metric causes better sleep quality AND increase in HRV.\n",
        "* The reason this could be beneficial is Sleep Quality might have a strong relationship with HRV on its own or compared to sleep duration individually, but could rank differently if another metric can be used\n",
        "* With Whoop Data, I will compare Sleep Consistency, Sleep Quality, Sleep Duration as the variables with HRV as the dependent variable\n"
      ]
    },
    {
      "cell_type": "markdown",
      "metadata": {
        "id": "G2paE7Wc0si3"
      },
      "source": [
        "# EDA \n",
        "* The assignment specifications state that the EDA must perform the analysis on the original data from the article and the new data to support the alternative relationship/mechanism.  However, the original data in many articles found are not provided, rather just the N amounts of data along with specific experimented tests with their corresponding results.\n",
        "* The data presented in this section will be their (authors of the article) statistical tests along with my alternative.\n",
        "* Since the data is not provided, I will use my Whoop data with similar metrics and compare the results in terms of significance as a side test, not my primary causal relationship.\n"
      ]
    },
    {
      "cell_type": "markdown",
      "metadata": {
        "id": "a934GGnYK28G"
      },
      "source": [
        "1. Read in my alternative causation data"
      ]
    },
    {
      "cell_type": "code",
      "metadata": {
        "id": "CdmBAHs4K0zj"
      },
      "source": [
        "ss_link = \"https://docs.google.com/spreadsheets/d/101VFdWUNabrT6nu9_EokXFK-Pq4pQLxUbUiooeK5H8M/edit#gid=1713221660\"\n",
        "new_link = \"https://docs.google.com/spreadsheets/d/101VFdWUNabrT6nu9_EokXFK-Pq4pQLxUbUiooeK5H8M/export?format=csv&gid=1713221660\"\n"
      ],
      "execution_count": null,
      "outputs": []
    },
    {
      "cell_type": "code",
      "metadata": {
        "colab": {
          "base_uri": "https://localhost:8080/",
          "height": 456
        },
        "id": "HqqyupsBLkXo",
        "outputId": "6221dce0-7f0e-4ee3-bf33-cf34629043f1"
      },
      "source": [
        "df = pd.read_csv(new_link)\n",
        "df.head(5)"
      ],
      "execution_count": null,
      "outputs": [
        {
          "output_type": "execute_result",
          "data": {
            "text/html": [
              "\n",
              "  <div id=\"df-262c90d2-3dd7-4cf6-a6c3-272d69b45384\">\n",
              "    <div class=\"colab-df-container\">\n",
              "      <div>\n",
              "<style scoped>\n",
              "    .dataframe tbody tr th:only-of-type {\n",
              "        vertical-align: middle;\n",
              "    }\n",
              "\n",
              "    .dataframe tbody tr th {\n",
              "        vertical-align: top;\n",
              "    }\n",
              "\n",
              "    .dataframe thead th {\n",
              "        text-align: right;\n",
              "    }\n",
              "</style>\n",
              "<table border=\"1\" class=\"dataframe\">\n",
              "  <thead>\n",
              "    <tr style=\"text-align: right;\">\n",
              "      <th></th>\n",
              "      <th>User ID</th>\n",
              "      <th>cycle_id</th>\n",
              "      <th>Date</th>\n",
              "      <th>Day of Week</th>\n",
              "      <th>RHR</th>\n",
              "      <th>HRV</th>\n",
              "      <th>Recovery</th>\n",
              "      <th>Sleep Score</th>\n",
              "      <th>Sleep Onset</th>\n",
              "      <th>Wake Onset</th>\n",
              "      <th>...</th>\n",
              "      <th>Nap Light</th>\n",
              "      <th>Nap Wake</th>\n",
              "      <th>Nap Missing Data</th>\n",
              "      <th>Total Cycle Sleep Time (hours)</th>\n",
              "      <th>REM Onset Latency (minutes)</th>\n",
              "      <th>timezone_offset</th>\n",
              "      <th>REM Percentage</th>\n",
              "      <th>Deep Sleep Percentage</th>\n",
              "      <th>Restorative Sleep (hours)</th>\n",
              "      <th>Restorative Sleep (%)</th>\n",
              "    </tr>\n",
              "  </thead>\n",
              "  <tbody>\n",
              "    <tr>\n",
              "      <th>0</th>\n",
              "      <td>129811</td>\n",
              "      <td>12626595</td>\n",
              "      <td>2019-10-03</td>\n",
              "      <td>thursday</td>\n",
              "      <td>46</td>\n",
              "      <td>82</td>\n",
              "      <td>55</td>\n",
              "      <td>77</td>\n",
              "      <td>21:56:17</td>\n",
              "      <td>5:16:42</td>\n",
              "      <td>...</td>\n",
              "      <td>NaN</td>\n",
              "      <td>NaN</td>\n",
              "      <td>NaN</td>\n",
              "      <td>6.65</td>\n",
              "      <td>68.4</td>\n",
              "      <td>-1 days +18:00:00</td>\n",
              "      <td>26.7</td>\n",
              "      <td>26.4</td>\n",
              "      <td>3.90</td>\n",
              "      <td>53.1</td>\n",
              "    </tr>\n",
              "    <tr>\n",
              "      <th>1</th>\n",
              "      <td>129811</td>\n",
              "      <td>12678739</td>\n",
              "      <td>2019-10-04</td>\n",
              "      <td>friday</td>\n",
              "      <td>50</td>\n",
              "      <td>80</td>\n",
              "      <td>54</td>\n",
              "      <td>80</td>\n",
              "      <td>23:03:11</td>\n",
              "      <td>6:59:38</td>\n",
              "      <td>...</td>\n",
              "      <td>NaN</td>\n",
              "      <td>NaN</td>\n",
              "      <td>NaN</td>\n",
              "      <td>7.35</td>\n",
              "      <td>36.2</td>\n",
              "      <td>-1 days +18:00:00</td>\n",
              "      <td>22.7</td>\n",
              "      <td>23.2</td>\n",
              "      <td>3.64</td>\n",
              "      <td>45.8</td>\n",
              "    </tr>\n",
              "    <tr>\n",
              "      <th>2</th>\n",
              "      <td>129811</td>\n",
              "      <td>12716913</td>\n",
              "      <td>2019-10-05</td>\n",
              "      <td>saturday</td>\n",
              "      <td>46</td>\n",
              "      <td>95</td>\n",
              "      <td>61</td>\n",
              "      <td>66</td>\n",
              "      <td>23:37:27</td>\n",
              "      <td>6:33:02</td>\n",
              "      <td>...</td>\n",
              "      <td>NaN</td>\n",
              "      <td>NaN</td>\n",
              "      <td>NaN</td>\n",
              "      <td>6.15</td>\n",
              "      <td>85.1</td>\n",
              "      <td>-1 days +18:00:00</td>\n",
              "      <td>29.4</td>\n",
              "      <td>23.8</td>\n",
              "      <td>3.69</td>\n",
              "      <td>53.2</td>\n",
              "    </tr>\n",
              "    <tr>\n",
              "      <th>3</th>\n",
              "      <td>129811</td>\n",
              "      <td>12764862</td>\n",
              "      <td>2019-10-06</td>\n",
              "      <td>sunday</td>\n",
              "      <td>50</td>\n",
              "      <td>106</td>\n",
              "      <td>68</td>\n",
              "      <td>73</td>\n",
              "      <td>0:04:10</td>\n",
              "      <td>7:29:49</td>\n",
              "      <td>...</td>\n",
              "      <td>NaN</td>\n",
              "      <td>NaN</td>\n",
              "      <td>NaN</td>\n",
              "      <td>6.94</td>\n",
              "      <td>68.7</td>\n",
              "      <td>-1 days +18:00:00</td>\n",
              "      <td>24.6</td>\n",
              "      <td>26.5</td>\n",
              "      <td>3.80</td>\n",
              "      <td>51.1</td>\n",
              "    </tr>\n",
              "    <tr>\n",
              "      <th>4</th>\n",
              "      <td>129811</td>\n",
              "      <td>12815943</td>\n",
              "      <td>2019-10-07</td>\n",
              "      <td>monday</td>\n",
              "      <td>51</td>\n",
              "      <td>78</td>\n",
              "      <td>52</td>\n",
              "      <td>77</td>\n",
              "      <td>23:23:14</td>\n",
              "      <td>7:53:48</td>\n",
              "      <td>...</td>\n",
              "      <td>NaN</td>\n",
              "      <td>NaN</td>\n",
              "      <td>NaN</td>\n",
              "      <td>7.43</td>\n",
              "      <td>53.2</td>\n",
              "      <td>-1 days +18:00:00</td>\n",
              "      <td>27.4</td>\n",
              "      <td>26.6</td>\n",
              "      <td>4.59</td>\n",
              "      <td>53.9</td>\n",
              "    </tr>\n",
              "  </tbody>\n",
              "</table>\n",
              "<p>5 rows × 42 columns</p>\n",
              "</div>\n",
              "      <button class=\"colab-df-convert\" onclick=\"convertToInteractive('df-262c90d2-3dd7-4cf6-a6c3-272d69b45384')\"\n",
              "              title=\"Convert this dataframe to an interactive table.\"\n",
              "              style=\"display:none;\">\n",
              "        \n",
              "  <svg xmlns=\"http://www.w3.org/2000/svg\" height=\"24px\"viewBox=\"0 0 24 24\"\n",
              "       width=\"24px\">\n",
              "    <path d=\"M0 0h24v24H0V0z\" fill=\"none\"/>\n",
              "    <path d=\"M18.56 5.44l.94 2.06.94-2.06 2.06-.94-2.06-.94-.94-2.06-.94 2.06-2.06.94zm-11 1L8.5 8.5l.94-2.06 2.06-.94-2.06-.94L8.5 2.5l-.94 2.06-2.06.94zm10 10l.94 2.06.94-2.06 2.06-.94-2.06-.94-.94-2.06-.94 2.06-2.06.94z\"/><path d=\"M17.41 7.96l-1.37-1.37c-.4-.4-.92-.59-1.43-.59-.52 0-1.04.2-1.43.59L10.3 9.45l-7.72 7.72c-.78.78-.78 2.05 0 2.83L4 21.41c.39.39.9.59 1.41.59.51 0 1.02-.2 1.41-.59l7.78-7.78 2.81-2.81c.8-.78.8-2.07 0-2.86zM5.41 20L4 18.59l7.72-7.72 1.47 1.35L5.41 20z\"/>\n",
              "  </svg>\n",
              "      </button>\n",
              "      \n",
              "  <style>\n",
              "    .colab-df-container {\n",
              "      display:flex;\n",
              "      flex-wrap:wrap;\n",
              "      gap: 12px;\n",
              "    }\n",
              "\n",
              "    .colab-df-convert {\n",
              "      background-color: #E8F0FE;\n",
              "      border: none;\n",
              "      border-radius: 50%;\n",
              "      cursor: pointer;\n",
              "      display: none;\n",
              "      fill: #1967D2;\n",
              "      height: 32px;\n",
              "      padding: 0 0 0 0;\n",
              "      width: 32px;\n",
              "    }\n",
              "\n",
              "    .colab-df-convert:hover {\n",
              "      background-color: #E2EBFA;\n",
              "      box-shadow: 0px 1px 2px rgba(60, 64, 67, 0.3), 0px 1px 3px 1px rgba(60, 64, 67, 0.15);\n",
              "      fill: #174EA6;\n",
              "    }\n",
              "\n",
              "    [theme=dark] .colab-df-convert {\n",
              "      background-color: #3B4455;\n",
              "      fill: #D2E3FC;\n",
              "    }\n",
              "\n",
              "    [theme=dark] .colab-df-convert:hover {\n",
              "      background-color: #434B5C;\n",
              "      box-shadow: 0px 1px 3px 1px rgba(0, 0, 0, 0.15);\n",
              "      filter: drop-shadow(0px 1px 2px rgba(0, 0, 0, 0.3));\n",
              "      fill: #FFFFFF;\n",
              "    }\n",
              "  </style>\n",
              "\n",
              "      <script>\n",
              "        const buttonEl =\n",
              "          document.querySelector('#df-262c90d2-3dd7-4cf6-a6c3-272d69b45384 button.colab-df-convert');\n",
              "        buttonEl.style.display =\n",
              "          google.colab.kernel.accessAllowed ? 'block' : 'none';\n",
              "\n",
              "        async function convertToInteractive(key) {\n",
              "          const element = document.querySelector('#df-262c90d2-3dd7-4cf6-a6c3-272d69b45384');\n",
              "          const dataTable =\n",
              "            await google.colab.kernel.invokeFunction('convertToInteractive',\n",
              "                                                     [key], {});\n",
              "          if (!dataTable) return;\n",
              "\n",
              "          const docLinkHtml = 'Like what you see? Visit the ' +\n",
              "            '<a target=\"_blank\" href=https://colab.research.google.com/notebooks/data_table.ipynb>data table notebook</a>'\n",
              "            + ' to learn more about interactive tables.';\n",
              "          element.innerHTML = '';\n",
              "          dataTable['output_type'] = 'display_data';\n",
              "          await google.colab.output.renderOutput(dataTable, element);\n",
              "          const docLink = document.createElement('div');\n",
              "          docLink.innerHTML = docLinkHtml;\n",
              "          element.appendChild(docLink);\n",
              "        }\n",
              "      </script>\n",
              "    </div>\n",
              "  </div>\n",
              "  "
            ],
            "text/plain": [
              "   User ID  cycle_id        Date Day of Week  RHR  HRV  Recovery  Sleep Score  \\\n",
              "0   129811  12626595  2019-10-03    thursday   46   82        55           77   \n",
              "1   129811  12678739  2019-10-04      friday   50   80        54           80   \n",
              "2   129811  12716913  2019-10-05    saturday   46   95        61           66   \n",
              "3   129811  12764862  2019-10-06      sunday   50  106        68           73   \n",
              "4   129811  12815943  2019-10-07      monday   51   78        52           77   \n",
              "\n",
              "  Sleep Onset Wake Onset  ...  Nap Light  Nap Wake  Nap Missing Data  \\\n",
              "0    21:56:17    5:16:42  ...        NaN       NaN               NaN   \n",
              "1    23:03:11    6:59:38  ...        NaN       NaN               NaN   \n",
              "2    23:37:27    6:33:02  ...        NaN       NaN               NaN   \n",
              "3     0:04:10    7:29:49  ...        NaN       NaN               NaN   \n",
              "4    23:23:14    7:53:48  ...        NaN       NaN               NaN   \n",
              "\n",
              "   Total Cycle Sleep Time (hours)  REM Onset Latency (minutes)  \\\n",
              "0                            6.65                         68.4   \n",
              "1                            7.35                         36.2   \n",
              "2                            6.15                         85.1   \n",
              "3                            6.94                         68.7   \n",
              "4                            7.43                         53.2   \n",
              "\n",
              "     timezone_offset  REM Percentage  Deep Sleep Percentage  \\\n",
              "0  -1 days +18:00:00            26.7                   26.4   \n",
              "1  -1 days +18:00:00            22.7                   23.2   \n",
              "2  -1 days +18:00:00            29.4                   23.8   \n",
              "3  -1 days +18:00:00            24.6                   26.5   \n",
              "4  -1 days +18:00:00            27.4                   26.6   \n",
              "\n",
              "   Restorative Sleep (hours)  Restorative Sleep (%)  \n",
              "0                       3.90                   53.1  \n",
              "1                       3.64                   45.8  \n",
              "2                       3.69                   53.2  \n",
              "3                       3.80                   51.1  \n",
              "4                       4.59                   53.9  \n",
              "\n",
              "[5 rows x 42 columns]"
            ]
          },
          "metadata": {},
          "execution_count": 3
        }
      ]
    },
    {
      "cell_type": "code",
      "source": [
        "df.columns"
      ],
      "metadata": {
        "id": "6nezk4xZg5X5",
        "outputId": "40215892-529d-40dc-f128-a5f588327267",
        "colab": {
          "base_uri": "https://localhost:8080/"
        }
      },
      "execution_count": null,
      "outputs": [
        {
          "output_type": "execute_result",
          "data": {
            "text/plain": [
              "Index(['User ID', 'cycle_id', 'Date', 'Day of Week', 'RHR', 'HRV', 'Recovery',\n",
              "       'Sleep Score', 'Sleep Onset', 'Wake Onset', 'Hours in Bed',\n",
              "       'Hours of Sleep', 'Sleep Need', 'Sleep Efficiency (%)', 'Wake Periods',\n",
              "       'Sleep Disturbances', 'Latency (min)', 'Cycles', 'REM Sleep (hours)',\n",
              "       'Deep Sleep (hours)', 'Light Sleep (hours)', 'Awake (hours)',\n",
              "       'Missing Data (hours)', 'Sleep Debt (hours)', 'Sleep Consistency',\n",
              "       'Respiratory Rate', 'Last Nap End Time', 'Nap Time in Bed',\n",
              "       'Total Cycle Nap Time (hours)', 'Nap Disturbances', 'Nap REM',\n",
              "       'Nap SWS', 'Nap Light', 'Nap Wake', 'Nap Missing Data',\n",
              "       'Total Cycle Sleep Time (hours)', 'REM Onset Latency (minutes)',\n",
              "       'timezone_offset', 'REM Percentage', 'Deep Sleep Percentage',\n",
              "       'Restorative Sleep (hours)', 'Restorative Sleep (%)'],\n",
              "      dtype='object')"
            ]
          },
          "metadata": {},
          "execution_count": 4
        }
      ]
    },
    {
      "cell_type": "markdown",
      "metadata": {
        "id": "Fgh2KgeYL9lY"
      },
      "source": [
        "2. Check the packaging\n",
        "* 481 days of data with 42 variables"
      ]
    },
    {
      "cell_type": "code",
      "metadata": {
        "colab": {
          "base_uri": "https://localhost:8080/"
        },
        "id": "NVlGkHnaNihx",
        "outputId": "908259d1-3550-41fb-ad74-d37f55ddc0fa"
      },
      "source": [
        "df.shape"
      ],
      "execution_count": null,
      "outputs": [
        {
          "output_type": "execute_result",
          "data": {
            "text/plain": [
              "(481, 42)"
            ]
          },
          "metadata": {
            "tags": []
          },
          "execution_count": 4
        }
      ]
    },
    {
      "cell_type": "code",
      "metadata": {
        "id": "kKqcFnhKNrNl"
      },
      "source": [
        "#New data set with variables from Article with another metric of interest (Sleep Consistency)"
      ],
      "execution_count": null,
      "outputs": []
    },
    {
      "cell_type": "code",
      "metadata": {
        "colab": {
          "base_uri": "https://localhost:8080/",
          "height": 204
        },
        "id": "TVd28vrULpap",
        "outputId": "b684d58d-57f2-4a1a-fa92-921d4c4412d3"
      },
      "source": [
        "var_df = df[['HRV','Sleep Efficiency (%)','Latency (min)','Hours of Sleep','Sleep Consistency']]\n",
        "var_df.head(5)\n"
      ],
      "execution_count": null,
      "outputs": [
        {
          "output_type": "execute_result",
          "data": {
            "text/html": [
              "<div>\n",
              "<style scoped>\n",
              "    .dataframe tbody tr th:only-of-type {\n",
              "        vertical-align: middle;\n",
              "    }\n",
              "\n",
              "    .dataframe tbody tr th {\n",
              "        vertical-align: top;\n",
              "    }\n",
              "\n",
              "    .dataframe thead th {\n",
              "        text-align: right;\n",
              "    }\n",
              "</style>\n",
              "<table border=\"1\" class=\"dataframe\">\n",
              "  <thead>\n",
              "    <tr style=\"text-align: right;\">\n",
              "      <th></th>\n",
              "      <th>HRV</th>\n",
              "      <th>Sleep Efficiency (%)</th>\n",
              "      <th>Latency (min)</th>\n",
              "      <th>Hours of Sleep</th>\n",
              "      <th>Sleep Consistency</th>\n",
              "    </tr>\n",
              "  </thead>\n",
              "  <tbody>\n",
              "    <tr>\n",
              "      <th>0</th>\n",
              "      <td>82</td>\n",
              "      <td>91</td>\n",
              "      <td>0.95</td>\n",
              "      <td>6.65</td>\n",
              "      <td>NaN</td>\n",
              "    </tr>\n",
              "    <tr>\n",
              "      <th>1</th>\n",
              "      <td>80</td>\n",
              "      <td>92</td>\n",
              "      <td>0.00</td>\n",
              "      <td>7.35</td>\n",
              "      <td>NaN</td>\n",
              "    </tr>\n",
              "    <tr>\n",
              "      <th>2</th>\n",
              "      <td>95</td>\n",
              "      <td>89</td>\n",
              "      <td>2.92</td>\n",
              "      <td>6.15</td>\n",
              "      <td>NaN</td>\n",
              "    </tr>\n",
              "    <tr>\n",
              "      <th>3</th>\n",
              "      <td>106</td>\n",
              "      <td>93</td>\n",
              "      <td>2.40</td>\n",
              "      <td>6.94</td>\n",
              "      <td>76.0</td>\n",
              "    </tr>\n",
              "    <tr>\n",
              "      <th>4</th>\n",
              "      <td>78</td>\n",
              "      <td>87</td>\n",
              "      <td>2.90</td>\n",
              "      <td>7.43</td>\n",
              "      <td>84.0</td>\n",
              "    </tr>\n",
              "  </tbody>\n",
              "</table>\n",
              "</div>"
            ],
            "text/plain": [
              "   HRV  Sleep Efficiency (%)  Latency (min)  Hours of Sleep  Sleep Consistency\n",
              "0   82                    91           0.95            6.65                NaN\n",
              "1   80                    92           0.00            7.35                NaN\n",
              "2   95                    89           2.92            6.15                NaN\n",
              "3  106                    93           2.40            6.94               76.0\n",
              "4   78                    87           2.90            7.43               84.0"
            ]
          },
          "metadata": {
            "tags": []
          },
          "execution_count": 6
        }
      ]
    },
    {
      "cell_type": "markdown",
      "metadata": {
        "id": "PQOMhDSkNHFJ"
      },
      "source": [
        "3. Check the the head and tail of the data"
      ]
    },
    {
      "cell_type": "code",
      "metadata": {
        "colab": {
          "base_uri": "https://localhost:8080/"
        },
        "id": "C9IAoJC2M2Uo",
        "outputId": "680dad57-9240-409c-ee8f-9d5f8eaaef2c"
      },
      "source": [
        "print(\"Head of Data\")\n",
        "print(var_df.head(5))\n",
        "print(\"Tail of Data\")\n",
        "print(var_df.tail(5))"
      ],
      "execution_count": null,
      "outputs": [
        {
          "output_type": "stream",
          "text": [
            "Head of Data\n",
            "   HRV  Sleep Efficiency (%)  Latency (min)  Hours of Sleep  Sleep Consistency\n",
            "0   82                    91           0.95            6.65                NaN\n",
            "1   80                    92           0.00            7.35                NaN\n",
            "2   95                    89           2.92            6.15                NaN\n",
            "3  106                    93           2.40            6.94               76.0\n",
            "4   78                    87           2.90            7.43               84.0\n",
            "Tail of Data\n",
            "     HRV  Sleep Efficiency (%)  ...  Hours of Sleep  Sleep Consistency\n",
            "476   60                    87  ...            7.09               72.0\n",
            "477   61                    91  ...            5.66               73.0\n",
            "478   73                    88  ...            6.44               70.0\n",
            "479   67                    84  ...            6.28               59.0\n",
            "480   55                    84  ...            5.61               68.0\n",
            "\n",
            "[5 rows x 5 columns]\n"
          ],
          "name": "stdout"
        }
      ]
    },
    {
      "cell_type": "markdown",
      "metadata": {
        "id": "YYChnmzQN17a"
      },
      "source": [
        "4. Check the n's of the data\n",
        "* Rows should be equal to the orignal data set, with only 5 columns"
      ]
    },
    {
      "cell_type": "code",
      "metadata": {
        "colab": {
          "base_uri": "https://localhost:8080/"
        },
        "id": "EKzjr_8rNZjk",
        "outputId": "549c246e-1246-484c-bd44-d08bafd0d288"
      },
      "source": [
        "print(df.shape[0] == var_df.shape[0])\n",
        "print(\"Number of columns\")\n",
        "print(var_df.shape[1])"
      ],
      "execution_count": null,
      "outputs": [
        {
          "output_type": "stream",
          "text": [
            "True\n",
            "Number of columns\n",
            "5\n"
          ],
          "name": "stdout"
        }
      ]
    },
    {
      "cell_type": "markdown",
      "metadata": {
        "id": "SuX0ZIBsOGT-"
      },
      "source": [
        "5. Validate data/clean data"
      ]
    },
    {
      "cell_type": "code",
      "metadata": {
        "colab": {
          "base_uri": "https://localhost:8080/"
        },
        "id": "taJoWNKIN7_C",
        "outputId": "333ae3d4-e007-4e02-9029-7aa9dc664f07"
      },
      "source": [
        "#Check for missing data\n",
        "print(var_df.isnull().sum())\n",
        "var_df = var_df.dropna()\n",
        "#should see the rows be 6 less, therefore 475\n",
        "print(var_df)\n"
      ],
      "execution_count": null,
      "outputs": [
        {
          "output_type": "stream",
          "text": [
            "HRV                     0\n",
            "Sleep Efficiency (%)    0\n",
            "Latency (min)           0\n",
            "Hours of Sleep          0\n",
            "Sleep Consistency       6\n",
            "dtype: int64\n",
            "     HRV  Sleep Efficiency (%)  ...  Hours of Sleep  Sleep Consistency\n",
            "3    106                    93  ...            6.94               76.0\n",
            "4     78                    87  ...            7.43               84.0\n",
            "5    110                    81  ...            7.11               86.0\n",
            "6     72                    75  ...            6.81               87.0\n",
            "7    104                    87  ...            6.82               84.0\n",
            "..   ...                   ...  ...             ...                ...\n",
            "476   60                    87  ...            7.09               72.0\n",
            "477   61                    91  ...            5.66               73.0\n",
            "478   73                    88  ...            6.44               70.0\n",
            "479   67                    84  ...            6.28               59.0\n",
            "480   55                    84  ...            5.61               68.0\n",
            "\n",
            "[475 rows x 5 columns]\n"
          ],
          "name": "stdout"
        }
      ]
    },
    {
      "cell_type": "markdown",
      "metadata": {
        "id": "M5tqkjKKRz9t"
      },
      "source": [
        "Below will be a snippet of the articles findings when it is regarding their linear regression modeling of HRV predictor indicators"
      ]
    },
    {
      "cell_type": "markdown",
      "metadata": {
        "id": "nhNdkZGVSGBz"
      },
      "source": [
        "![Screen Shot 2021-04-18 at 12.39.49 PM.png](data:image/png;base64,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)"
      ]
    },
    {
      "cell_type": "markdown",
      "metadata": {
        "id": "Ps413FnISgUs"
      },
      "source": [
        "* As seen above, the P value is the paired t test value with significance when P < .05\n",
        "* The HF and LF/HF is the higher or loweer/higher frequency spectral power when reading HRV.  Both are accurate but could give different results from the articles notes, however differentiating results is not important between the two types of readings.\n",
        "\n",
        "\n",
        "To Define terms used in image:\n",
        "* Sleep Efficiency: Balance between sleep stages (REM, Deep, Light)\n",
        "* Sleep Latency: The length of time that it takes to accomplish the transition from full wakefulness to sleep, normally to the lightest of the non-REM sleep stages.\n",
        "* WASO: Wake after sleep onset is the opposite of time it takes from sleep to full wakefulness.\n",
        "\n",
        "\n",
        "\n",
        "As seen, the tests run from their model show that efficiency along with latency and waso are more significant than duration in terms of HRV prediction."
      ]
    },
    {
      "cell_type": "markdown",
      "metadata": {
        "id": "8_1EE-ImTnQ7"
      },
      "source": [
        "6. Visualization (from var_df, personal whoop data)\n",
        "* I will use my Whoop data for alternative causality mechanisms"
      ]
    },
    {
      "cell_type": "markdown",
      "metadata": {
        "id": "5DOdQ_sGXo9O"
      },
      "source": [
        "First visualization will be a heat map to show correlation between all 5 variables (code from Notebook)\n",
        "* The purpose of this is to compare the results from the article with my own Whoop Data to confirm the level in which using my Data is appropriate\n",
        "\n",
        "* The obvious limitation here is that the article is using Data from children 5-11 with N = 135 data points, due to privacy reasons, Children data is not found and I will use my whoop data from 475 days (N = 475)."
      ]
    },
    {
      "cell_type": "code",
      "metadata": {
        "colab": {
          "base_uri": "https://localhost:8080/",
          "height": 204
        },
        "id": "gbbd9u8xTk_R",
        "outputId": "874cf081-8874-4d8f-80f9-5b31402952eb"
      },
      "source": [
        "\n",
        "df_corr =  var_df[var_df.columns].corr()\n",
        "df_corr"
      ],
      "execution_count": null,
      "outputs": [
        {
          "output_type": "execute_result",
          "data": {
            "text/html": [
              "<div>\n",
              "<style scoped>\n",
              "    .dataframe tbody tr th:only-of-type {\n",
              "        vertical-align: middle;\n",
              "    }\n",
              "\n",
              "    .dataframe tbody tr th {\n",
              "        vertical-align: top;\n",
              "    }\n",
              "\n",
              "    .dataframe thead th {\n",
              "        text-align: right;\n",
              "    }\n",
              "</style>\n",
              "<table border=\"1\" class=\"dataframe\">\n",
              "  <thead>\n",
              "    <tr style=\"text-align: right;\">\n",
              "      <th></th>\n",
              "      <th>HRV</th>\n",
              "      <th>Sleep Efficiency (%)</th>\n",
              "      <th>Latency (min)</th>\n",
              "      <th>Hours of Sleep</th>\n",
              "      <th>Sleep Consistency</th>\n",
              "    </tr>\n",
              "  </thead>\n",
              "  <tbody>\n",
              "    <tr>\n",
              "      <th>HRV</th>\n",
              "      <td>1.000000</td>\n",
              "      <td>0.068916</td>\n",
              "      <td>-0.050951</td>\n",
              "      <td>0.205630</td>\n",
              "      <td>0.102322</td>\n",
              "    </tr>\n",
              "    <tr>\n",
              "      <th>Sleep Efficiency (%)</th>\n",
              "      <td>0.068916</td>\n",
              "      <td>1.000000</td>\n",
              "      <td>-0.216035</td>\n",
              "      <td>0.318755</td>\n",
              "      <td>0.036200</td>\n",
              "    </tr>\n",
              "    <tr>\n",
              "      <th>Latency (min)</th>\n",
              "      <td>-0.050951</td>\n",
              "      <td>-0.216035</td>\n",
              "      <td>1.000000</td>\n",
              "      <td>-0.062900</td>\n",
              "      <td>-0.052577</td>\n",
              "    </tr>\n",
              "    <tr>\n",
              "      <th>Hours of Sleep</th>\n",
              "      <td>0.205630</td>\n",
              "      <td>0.318755</td>\n",
              "      <td>-0.062900</td>\n",
              "      <td>1.000000</td>\n",
              "      <td>0.059505</td>\n",
              "    </tr>\n",
              "    <tr>\n",
              "      <th>Sleep Consistency</th>\n",
              "      <td>0.102322</td>\n",
              "      <td>0.036200</td>\n",
              "      <td>-0.052577</td>\n",
              "      <td>0.059505</td>\n",
              "      <td>1.000000</td>\n",
              "    </tr>\n",
              "  </tbody>\n",
              "</table>\n",
              "</div>"
            ],
            "text/plain": [
              "                           HRV  ...  Sleep Consistency\n",
              "HRV                   1.000000  ...           0.102322\n",
              "Sleep Efficiency (%)  0.068916  ...           0.036200\n",
              "Latency (min)        -0.050951  ...          -0.052577\n",
              "Hours of Sleep        0.205630  ...           0.059505\n",
              "Sleep Consistency     0.102322  ...           1.000000\n",
              "\n",
              "[5 rows x 5 columns]"
            ]
          },
          "metadata": {
            "tags": []
          },
          "execution_count": 10
        }
      ]
    },
    {
      "cell_type": "code",
      "metadata": {
        "colab": {
          "base_uri": "https://localhost:8080/",
          "height": 601
        },
        "id": "IM-BdXqWRw8r",
        "outputId": "d9530442-5376-424e-a0e6-7aa3e1622876"
      },
      "source": [
        "\n",
        "df_mask = np.zeros_like(df_corr) #array of zeros of the same shape\n",
        "df_mask[np.triu_indices_from(df_mask)] = True #turn upper triangle into ones\n",
        "\n",
        "f,ax = plt.subplots(1,1,figsize=(10,10))\n",
        "\n",
        "sb.heatmap(df_corr,vmin=-1,vmax=1,mask=df_mask,annot=True,square=True,ax=ax,cmap='coolwarm_r')"
      ],
      "execution_count": null,
      "outputs": [
        {
          "output_type": "execute_result",
          "data": {
            "text/plain": [
              "<matplotlib.axes._subplots.AxesSubplot at 0x7fa094cf5510>"
            ]
          },
          "metadata": {
            "tags": []
          },
          "execution_count": 11
        },
        {
          "output_type": "display_data",
          "data": {
            "image/png": "[encoded data removed]",
            "text/plain": [
              "<Figure size 720x720 with 2 Axes>"
            ]
          },
          "metadata": {
            "tags": [],
            "needs_background": "light"
          }
        }
      ]
    },
    {
      "cell_type": "markdown",
      "metadata": {
        "id": "fp2FXcrVY02F"
      },
      "source": [
        "As seen above, there are variable relationships between all 5 metrics which was expected.  The strongest positive would be Sleep Efficiency and Hours of sleep, and the strongest negative would be Sleep Efficiency and Latency"
      ]
    },
    {
      "cell_type": "markdown",
      "metadata": {
        "id": "_ciTRURT7LQY"
      },
      "source": [
        "Below will be a handful of scatter plots displaying the above relationships all to HRV as the y axis."
      ]
    },
    {
      "cell_type": "code",
      "metadata": {
        "colab": {
          "base_uri": "https://localhost:8080/",
          "height": 441
        },
        "id": "Ne4YlQVAY0Ld",
        "outputId": "77ca658e-98fc-4f47-e929-b3da18c2a3d2"
      },
      "source": [
        "f,axs = plt.subplots(2,2,figsize=(12,6),sharey=True)\n",
        "\n",
        "cols = ['Sleep Efficiency (%)','Latency (min)','Hours of Sleep','Sleep Consistency']\n",
        "        \n",
        "\n",
        "for i,ax in enumerate(axs.flatten()):\n",
        "    # Plot the data\n",
        "    var_df.plot.scatter(x=cols[i],y='HRV',ax=ax,color='k')\n",
        "    \n",
        "    # Deal with missing data\n",
        "    _df = var_df[[cols[i],'HRV']].dropna(how='any')\n",
        "    \n",
        "    # Compute the correlation coefficient\n",
        "    corr_coef = np.corrcoef(_df[cols[i]],_df['HRV'])[0,1]\n",
        "    \n",
        "    # Make the correlation coefficient the axis title\n",
        "    ax.set_title('$r^2 = {0:.2f}$'.format(corr_coef))\n",
        "    \n",
        "f.tight_layout()"
      ],
      "execution_count": null,
      "outputs": [
        {
          "output_type": "display_data",
          "data": {
            "image/png": "[encoded data removed]",
            "text/plain": [
              "<Figure size 864x432 with 4 Axes>"
            ]
          },
          "metadata": {
            "tags": [],
            "needs_background": "light"
          }
        }
      ]
    },
    {
      "cell_type": "markdown",
      "metadata": {
        "id": "m_vKBxLza0C3"
      },
      "source": [
        "As seen, the correlation coefficients are not showing strong relationships to HRV.  This might change when looking at significance in our model further down.\n",
        "* The reason latency is all at the left end (or most of the data) is because Latency as a metric is the time it takes to go from full wakefullness to sleep, this usually does not take too long therefore a large portion of that data is within 7 minutes of time in bed before falling asleep."
      ]
    },
    {
      "cell_type": "markdown",
      "metadata": {
        "id": "dvvevMzq8Len"
      },
      "source": [
        "8. Tests\n",
        "\n",
        "* I will begin by creating a least squares model based off of the articles metrics + Sleep Consistency in hopes to show the relationship is consistent with the articles testing results."
      ]
    },
    {
      "cell_type": "code",
      "metadata": {
        "id": "WQgcGg6v94D8"
      },
      "source": [
        "df_stats = var_df[['HRV','Sleep Efficiency (%)','Latency (min)','Hours of Sleep','Sleep Consistency']]"
      ],
      "execution_count": null,
      "outputs": []
    },
    {
      "cell_type": "code",
      "metadata": {
        "colab": {
          "base_uri": "https://localhost:8080/",
          "height": 297
        },
        "id": "zzvGGMjh9_l6",
        "outputId": "258f6d72-10a9-4b7e-df21-4bc1122e87c5"
      },
      "source": [
        "# Make a new DataFrame with relevant columns\n",
        "df_subdf = df_stats[cols + ['HRV']].copy()\n",
        "\n",
        "# Put the date in the index\n",
        "#df_subdf.set_index(df['Date'],inplace=True)\n",
        "\n",
        "# Rename the columns\n",
        "df_subdf.columns = ['HRV','SleepEfficiency','Latency','HoursSleep','SleepConsistency']\n",
        "\n",
        "# Describe the values in each column\n",
        "df_subdf.describe()"
      ],
      "execution_count": null,
      "outputs": [
        {
          "output_type": "execute_result",
          "data": {
            "text/html": [
              "<div>\n",
              "<style scoped>\n",
              "    .dataframe tbody tr th:only-of-type {\n",
              "        vertical-align: middle;\n",
              "    }\n",
              "\n",
              "    .dataframe tbody tr th {\n",
              "        vertical-align: top;\n",
              "    }\n",
              "\n",
              "    .dataframe thead th {\n",
              "        text-align: right;\n",
              "    }\n",
              "</style>\n",
              "<table border=\"1\" class=\"dataframe\">\n",
              "  <thead>\n",
              "    <tr style=\"text-align: right;\">\n",
              "      <th></th>\n",
              "      <th>HRV</th>\n",
              "      <th>SleepEfficiency</th>\n",
              "      <th>Latency</th>\n",
              "      <th>HoursSleep</th>\n",
              "      <th>SleepConsistency</th>\n",
              "    </tr>\n",
              "  </thead>\n",
              "  <tbody>\n",
              "    <tr>\n",
              "      <th>count</th>\n",
              "      <td>475.000000</td>\n",
              "      <td>475.000000</td>\n",
              "      <td>475.000000</td>\n",
              "      <td>475.000000</td>\n",
              "      <td>475.000000</td>\n",
              "    </tr>\n",
              "    <tr>\n",
              "      <th>mean</th>\n",
              "      <td>88.246316</td>\n",
              "      <td>1.663453</td>\n",
              "      <td>6.783916</td>\n",
              "      <td>76.524211</td>\n",
              "      <td>82.170526</td>\n",
              "    </tr>\n",
              "    <tr>\n",
              "      <th>std</th>\n",
              "      <td>4.070627</td>\n",
              "      <td>2.635396</td>\n",
              "      <td>0.969355</td>\n",
              "      <td>10.890370</td>\n",
              "      <td>16.131526</td>\n",
              "    </tr>\n",
              "    <tr>\n",
              "      <th>min</th>\n",
              "      <td>63.000000</td>\n",
              "      <td>0.000000</td>\n",
              "      <td>2.950000</td>\n",
              "      <td>37.000000</td>\n",
              "      <td>42.000000</td>\n",
              "    </tr>\n",
              "    <tr>\n",
              "      <th>25%</th>\n",
              "      <td>86.000000</td>\n",
              "      <td>0.000000</td>\n",
              "      <td>6.220000</td>\n",
              "      <td>70.000000</td>\n",
              "      <td>71.000000</td>\n",
              "    </tr>\n",
              "    <tr>\n",
              "      <th>50%</th>\n",
              "      <td>89.000000</td>\n",
              "      <td>1.460000</td>\n",
              "      <td>6.900000</td>\n",
              "      <td>78.000000</td>\n",
              "      <td>81.000000</td>\n",
              "    </tr>\n",
              "    <tr>\n",
              "      <th>75%</th>\n",
              "      <td>91.000000</td>\n",
              "      <td>2.400000</td>\n",
              "      <td>7.430000</td>\n",
              "      <td>85.000000</td>\n",
              "      <td>92.000000</td>\n",
              "    </tr>\n",
              "    <tr>\n",
              "      <th>max</th>\n",
              "      <td>97.000000</td>\n",
              "      <td>30.470000</td>\n",
              "      <td>9.800000</td>\n",
              "      <td>95.000000</td>\n",
              "      <td>134.000000</td>\n",
              "    </tr>\n",
              "  </tbody>\n",
              "</table>\n",
              "</div>"
            ],
            "text/plain": [
              "              HRV  SleepEfficiency     Latency  HoursSleep  SleepConsistency\n",
              "count  475.000000       475.000000  475.000000  475.000000        475.000000\n",
              "mean    88.246316         1.663453    6.783916   76.524211         82.170526\n",
              "std      4.070627         2.635396    0.969355   10.890370         16.131526\n",
              "min     63.000000         0.000000    2.950000   37.000000         42.000000\n",
              "25%     86.000000         0.000000    6.220000   70.000000         71.000000\n",
              "50%     89.000000         1.460000    6.900000   78.000000         81.000000\n",
              "75%     91.000000         2.400000    7.430000   85.000000         92.000000\n",
              "max     97.000000        30.470000    9.800000   95.000000        134.000000"
            ]
          },
          "metadata": {
            "tags": []
          },
          "execution_count": 14
        }
      ]
    },
    {
      "cell_type": "code",
      "metadata": {
        "colab": {
          "base_uri": "https://localhost:8080/",
          "height": 541
        },
        "id": "x3s6HprC-JaC",
        "outputId": "cfb635fb-0c76-4a8a-8562-b96623317f98"
      },
      "source": [
        "\n",
        "lm = smf.ols(formula = 'HRV ~ SleepEfficiency + Latency + HoursSleep + SleepConsistency',data=df_subdf).fit()\n",
        "\n",
        "lm.summary()"
      ],
      "execution_count": null,
      "outputs": [
        {
          "output_type": "execute_result",
          "data": {
            "text/html": [
              "<table class=\"simpletable\">\n",
              "<caption>OLS Regression Results</caption>\n",
              "<tr>\n",
              "  <th>Dep. Variable:</th>           <td>HRV</td>       <th>  R-squared:         </th> <td>   0.140</td>\n",
              "</tr>\n",
              "<tr>\n",
              "  <th>Model:</th>                   <td>OLS</td>       <th>  Adj. R-squared:    </th> <td>   0.133</td>\n",
              "</tr>\n",
              "<tr>\n",
              "  <th>Method:</th>             <td>Least Squares</td>  <th>  F-statistic:       </th> <td>   19.17</td>\n",
              "</tr>\n",
              "<tr>\n",
              "  <th>Date:</th>             <td>Wed, 21 Apr 2021</td> <th>  Prob (F-statistic):</th> <td>1.28e-14</td>\n",
              "</tr>\n",
              "<tr>\n",
              "  <th>Time:</th>                 <td>16:13:57</td>     <th>  Log-Likelihood:    </th> <td> -1304.4</td>\n",
              "</tr>\n",
              "<tr>\n",
              "  <th>No. Observations:</th>      <td>   475</td>      <th>  AIC:               </th> <td>   2619.</td>\n",
              "</tr>\n",
              "<tr>\n",
              "  <th>Df Residuals:</th>          <td>   470</td>      <th>  BIC:               </th> <td>   2640.</td>\n",
              "</tr>\n",
              "<tr>\n",
              "  <th>Df Model:</th>              <td>     4</td>      <th>                     </th>     <td> </td>   \n",
              "</tr>\n",
              "<tr>\n",
              "  <th>Covariance Type:</th>      <td>nonrobust</td>    <th>                     </th>     <td> </td>   \n",
              "</tr>\n",
              "</table>\n",
              "<table class=\"simpletable\">\n",
              "<tr>\n",
              "          <td></td>            <th>coef</th>     <th>std err</th>      <th>t</th>      <th>P>|t|</th>  <th>[0.025</th>    <th>0.975]</th>  \n",
              "</tr>\n",
              "<tr>\n",
              "  <th>Intercept</th>        <td>   79.8796</td> <td>    1.792</td> <td>   44.575</td> <td> 0.000</td> <td>   76.358</td> <td>   83.401</td>\n",
              "</tr>\n",
              "<tr>\n",
              "  <th>SleepEfficiency</th>  <td>   -0.3036</td> <td>    0.066</td> <td>   -4.578</td> <td> 0.000</td> <td>   -0.434</td> <td>   -0.173</td>\n",
              "</tr>\n",
              "<tr>\n",
              "  <th>Latency</th>          <td>    1.2890</td> <td>    0.184</td> <td>    7.008</td> <td> 0.000</td> <td>    0.928</td> <td>    1.650</td>\n",
              "</tr>\n",
              "<tr>\n",
              "  <th>HoursSleep</th>       <td>    0.0030</td> <td>    0.016</td> <td>    0.188</td> <td> 0.851</td> <td>   -0.029</td> <td>    0.035</td>\n",
              "</tr>\n",
              "<tr>\n",
              "  <th>SleepConsistency</th> <td>   -0.0013</td> <td>    0.011</td> <td>   -0.115</td> <td> 0.909</td> <td>   -0.023</td> <td>    0.021</td>\n",
              "</tr>\n",
              "</table>\n",
              "<table class=\"simpletable\">\n",
              "<tr>\n",
              "  <th>Omnibus:</th>       <td>113.269</td> <th>  Durbin-Watson:     </th> <td>   1.556</td>\n",
              "</tr>\n",
              "<tr>\n",
              "  <th>Prob(Omnibus):</th> <td> 0.000</td>  <th>  Jarque-Bera (JB):  </th> <td> 338.617</td>\n",
              "</tr>\n",
              "<tr>\n",
              "  <th>Skew:</th>          <td>-1.116</td>  <th>  Prob(JB):          </th> <td>2.95e-74</td>\n",
              "</tr>\n",
              "<tr>\n",
              "  <th>Kurtosis:</th>      <td> 6.483</td>  <th>  Cond. No.          </th> <td>1.17e+03</td>\n",
              "</tr>\n",
              "</table><br/><br/>Warnings:<br/>[1] Standard Errors assume that the covariance matrix of the errors is correctly specified.<br/>[2] The condition number is large, 1.17e+03. This might indicate that there are<br/>strong multicollinearity or other numerical problems."
            ],
            "text/plain": [
              "<class 'statsmodels.iolib.summary.Summary'>\n",
              "\"\"\"\n",
              "                            OLS Regression Results                            \n",
              "==============================================================================\n",
              "Dep. Variable:                    HRV   R-squared:                       0.140\n",
              "Model:                            OLS   Adj. R-squared:                  0.133\n",
              "Method:                 Least Squares   F-statistic:                     19.17\n",
              "Date:                Wed, 21 Apr 2021   Prob (F-statistic):           1.28e-14\n",
              "Time:                        16:13:57   Log-Likelihood:                -1304.4\n",
              "No. Observations:                 475   AIC:                             2619.\n",
              "Df Residuals:                     470   BIC:                             2640.\n",
              "Df Model:                           4                                         \n",
              "Covariance Type:            nonrobust                                         \n",
              "====================================================================================\n",
              "                       coef    std err          t      P>|t|      [0.025      0.975]\n",
              "------------------------------------------------------------------------------------\n",
              "Intercept           79.8796      1.792     44.575      0.000      76.358      83.401\n",
              "SleepEfficiency     -0.3036      0.066     -4.578      0.000      -0.434      -0.173\n",
              "Latency              1.2890      0.184      7.008      0.000       0.928       1.650\n",
              "HoursSleep           0.0030      0.016      0.188      0.851      -0.029       0.035\n",
              "SleepConsistency    -0.0013      0.011     -0.115      0.909      -0.023       0.021\n",
              "==============================================================================\n",
              "Omnibus:                      113.269   Durbin-Watson:                   1.556\n",
              "Prob(Omnibus):                  0.000   Jarque-Bera (JB):              338.617\n",
              "Skew:                          -1.116   Prob(JB):                     2.95e-74\n",
              "Kurtosis:                       6.483   Cond. No.                     1.17e+03\n",
              "==============================================================================\n",
              "\n",
              "Warnings:\n",
              "[1] Standard Errors assume that the covariance matrix of the errors is correctly specified.\n",
              "[2] The condition number is large, 1.17e+03. This might indicate that there are\n",
              "strong multicollinearity or other numerical problems.\n",
              "\"\"\""
            ]
          },
          "metadata": {
            "tags": []
          },
          "execution_count": 15
        }
      ]
    },
    {
      "cell_type": "markdown",
      "metadata": {
        "id": "K56Hf0A8QwZq"
      },
      "source": [
        "This model proves this dataset which is my Whoop data, provides us similar results.  As seen in the above sections from the image provided from the article, Sleep Quality (made up of Efficiency, Latency, and WASO) is more statistically significant than hours of sleep.\n",
        "\n",
        "From this model, we see those results.  P >|t| shows that both Efficiency and Latency are significant, while Hours of Sleep are not.\n",
        "\n",
        "We also see that Sleep Consistency is not statistically significant either."
      ]
    },
    {
      "cell_type": "markdown",
      "metadata": {
        "id": "eVDDeEMqJGNw"
      },
      "source": [
        "\n",
        "My alternative causality will aim to prove:\n",
        "* Mediation, where X causes A and A causes Y\n",
        "* Confounding, where A causes both X AND Y\n",
        "\n",
        "While the origial claim is not untrue (Better Sleep Quality means better HRV), the relationship could be incorrect because there are factors that could cause HRV to increase as well.\n",
        "\n",
        "* The next step is to see if hours of sleep OR sleep consistency can play the role of the middle man of A which can help explain the result further.\n"
      ]
    },
    {
      "cell_type": "markdown",
      "metadata": {
        "id": "d7K3o3UyRcAj"
      },
      "source": [
        "Model Test A : Mediation\n",
        "* Goal : Check if Hours of Sleep OR Sleep Consistency can be the X or A variable.  Based of Hills framework, this must be logical, therefore Sleep Efficiency wont cause more hours of sleep, but the other way around could be valid.\n",
        "\n",
        "* Test : X causes A causes Y\n",
        "* Hours of Sleep OR Sleep Consistency -> Sleep Efficiency/Latency (Quality) -> HRV"
      ]
    },
    {
      "cell_type": "code",
      "metadata": {
        "colab": {
          "base_uri": "https://localhost:8080/",
          "height": 465
        },
        "id": "E4-Uh-JeKxdY",
        "outputId": "63a11e2a-bfed-4a6d-ab02-1e4afcd2ea2c"
      },
      "source": [
        "lm2 = smf.ols(formula = 'SleepEfficiency ~ SleepConsistency + HoursSleep',data=df_subdf).fit()\n",
        "lm2.summary()"
      ],
      "execution_count": null,
      "outputs": [
        {
          "output_type": "execute_result",
          "data": {
            "text/html": [
              "<table class=\"simpletable\">\n",
              "<caption>OLS Regression Results</caption>\n",
              "<tr>\n",
              "  <th>Dep. Variable:</th>     <td>SleepEfficiency</td> <th>  R-squared:         </th> <td>   0.005</td>\n",
              "</tr>\n",
              "<tr>\n",
              "  <th>Model:</th>                   <td>OLS</td>       <th>  Adj. R-squared:    </th> <td>   0.001</td>\n",
              "</tr>\n",
              "<tr>\n",
              "  <th>Method:</th>             <td>Least Squares</td>  <th>  F-statistic:       </th> <td>   1.153</td>\n",
              "</tr>\n",
              "<tr>\n",
              "  <th>Date:</th>             <td>Wed, 21 Apr 2021</td> <th>  Prob (F-statistic):</th>  <td> 0.316</td> \n",
              "</tr>\n",
              "<tr>\n",
              "  <th>Time:</th>                 <td>16:13:57</td>     <th>  Log-Likelihood:    </th> <td> -1132.6</td>\n",
              "</tr>\n",
              "<tr>\n",
              "  <th>No. Observations:</th>      <td>   475</td>      <th>  AIC:               </th> <td>   2271.</td>\n",
              "</tr>\n",
              "<tr>\n",
              "  <th>Df Residuals:</th>          <td>   472</td>      <th>  BIC:               </th> <td>   2284.</td>\n",
              "</tr>\n",
              "<tr>\n",
              "  <th>Df Model:</th>              <td>     2</td>      <th>                     </th>     <td> </td>   \n",
              "</tr>\n",
              "<tr>\n",
              "  <th>Covariance Type:</th>      <td>nonrobust</td>    <th>                     </th>     <td> </td>   \n",
              "</tr>\n",
              "</table>\n",
              "<table class=\"simpletable\">\n",
              "<tr>\n",
              "          <td></td>            <th>coef</th>     <th>std err</th>      <th>t</th>      <th>P>|t|</th>  <th>[0.025</th>    <th>0.975]</th>  \n",
              "</tr>\n",
              "<tr>\n",
              "  <th>Intercept</th>        <td>    3.1681</td> <td>    1.010</td> <td>    3.136</td> <td> 0.002</td> <td>    1.183</td> <td>    5.153</td>\n",
              "</tr>\n",
              "<tr>\n",
              "  <th>SleepConsistency</th> <td>   -0.0075</td> <td>    0.008</td> <td>   -0.998</td> <td> 0.319</td> <td>   -0.022</td> <td>    0.007</td>\n",
              "</tr>\n",
              "<tr>\n",
              "  <th>HoursSleep</th>       <td>   -0.0116</td> <td>    0.011</td> <td>   -1.037</td> <td> 0.300</td> <td>   -0.034</td> <td>    0.010</td>\n",
              "</tr>\n",
              "</table>\n",
              "<table class=\"simpletable\">\n",
              "<tr>\n",
              "  <th>Omnibus:</th>       <td>672.416</td> <th>  Durbin-Watson:     </th>  <td>   2.014</td> \n",
              "</tr>\n",
              "<tr>\n",
              "  <th>Prob(Omnibus):</th> <td> 0.000</td>  <th>  Jarque-Bera (JB):  </th> <td>104880.382</td>\n",
              "</tr>\n",
              "<tr>\n",
              "  <th>Skew:</th>          <td> 7.424</td>  <th>  Prob(JB):          </th>  <td>    0.00</td> \n",
              "</tr>\n",
              "<tr>\n",
              "  <th>Kurtosis:</th>      <td>74.265</td>  <th>  Cond. No.          </th>  <td>    946.</td> \n",
              "</tr>\n",
              "</table><br/><br/>Warnings:<br/>[1] Standard Errors assume that the covariance matrix of the errors is correctly specified."
            ],
            "text/plain": [
              "<class 'statsmodels.iolib.summary.Summary'>\n",
              "\"\"\"\n",
              "                            OLS Regression Results                            \n",
              "==============================================================================\n",
              "Dep. Variable:        SleepEfficiency   R-squared:                       0.005\n",
              "Model:                            OLS   Adj. R-squared:                  0.001\n",
              "Method:                 Least Squares   F-statistic:                     1.153\n",
              "Date:                Wed, 21 Apr 2021   Prob (F-statistic):              0.316\n",
              "Time:                        16:13:57   Log-Likelihood:                -1132.6\n",
              "No. Observations:                 475   AIC:                             2271.\n",
              "Df Residuals:                     472   BIC:                             2284.\n",
              "Df Model:                           2                                         \n",
              "Covariance Type:            nonrobust                                         \n",
              "====================================================================================\n",
              "                       coef    std err          t      P>|t|      [0.025      0.975]\n",
              "------------------------------------------------------------------------------------\n",
              "Intercept            3.1681      1.010      3.136      0.002       1.183       5.153\n",
              "SleepConsistency    -0.0075      0.008     -0.998      0.319      -0.022       0.007\n",
              "HoursSleep          -0.0116      0.011     -1.037      0.300      -0.034       0.010\n",
              "==============================================================================\n",
              "Omnibus:                      672.416   Durbin-Watson:                   2.014\n",
              "Prob(Omnibus):                  0.000   Jarque-Bera (JB):           104880.382\n",
              "Skew:                           7.424   Prob(JB):                         0.00\n",
              "Kurtosis:                      74.265   Cond. No.                         946.\n",
              "==============================================================================\n",
              "\n",
              "Warnings:\n",
              "[1] Standard Errors assume that the covariance matrix of the errors is correctly specified.\n",
              "\"\"\""
            ]
          },
          "metadata": {
            "tags": []
          },
          "execution_count": 16
        }
      ]
    },
    {
      "cell_type": "code",
      "metadata": {
        "colab": {
          "base_uri": "https://localhost:8080/",
          "height": 465
        },
        "id": "unGj5UilSAIj",
        "outputId": "637198bf-ea89-4f15-a365-a724897d51f9"
      },
      "source": [
        "lm3 = smf.ols(formula = 'Latency ~ SleepConsistency + HoursSleep',data=df_subdf).fit()\n",
        "lm3.summary()"
      ],
      "execution_count": null,
      "outputs": [
        {
          "output_type": "execute_result",
          "data": {
            "text/html": [
              "<table class=\"simpletable\">\n",
              "<caption>OLS Regression Results</caption>\n",
              "<tr>\n",
              "  <th>Dep. Variable:</th>         <td>Latency</td>     <th>  R-squared:         </th> <td>   0.044</td>\n",
              "</tr>\n",
              "<tr>\n",
              "  <th>Model:</th>                   <td>OLS</td>       <th>  Adj. R-squared:    </th> <td>   0.040</td>\n",
              "</tr>\n",
              "<tr>\n",
              "  <th>Method:</th>             <td>Least Squares</td>  <th>  F-statistic:       </th> <td>   10.80</td>\n",
              "</tr>\n",
              "<tr>\n",
              "  <th>Date:</th>             <td>Wed, 21 Apr 2021</td> <th>  Prob (F-statistic):</th> <td>2.58e-05</td>\n",
              "</tr>\n",
              "<tr>\n",
              "  <th>Time:</th>                 <td>16:13:57</td>     <th>  Log-Likelihood:    </th> <td> -648.08</td>\n",
              "</tr>\n",
              "<tr>\n",
              "  <th>No. Observations:</th>      <td>   475</td>      <th>  AIC:               </th> <td>   1302.</td>\n",
              "</tr>\n",
              "<tr>\n",
              "  <th>Df Residuals:</th>          <td>   472</td>      <th>  BIC:               </th> <td>   1315.</td>\n",
              "</tr>\n",
              "<tr>\n",
              "  <th>Df Model:</th>              <td>     2</td>      <th>                     </th>     <td> </td>   \n",
              "</tr>\n",
              "<tr>\n",
              "  <th>Covariance Type:</th>      <td>nonrobust</td>    <th>                     </th>     <td> </td>   \n",
              "</tr>\n",
              "</table>\n",
              "<table class=\"simpletable\">\n",
              "<tr>\n",
              "          <td></td>            <th>coef</th>     <th>std err</th>      <th>t</th>      <th>P>|t|</th>  <th>[0.025</th>    <th>0.975]</th>  \n",
              "</tr>\n",
              "<tr>\n",
              "  <th>Intercept</th>        <td>    5.5234</td> <td>    0.364</td> <td>   15.162</td> <td> 0.000</td> <td>    4.808</td> <td>    6.239</td>\n",
              "</tr>\n",
              "<tr>\n",
              "  <th>SleepConsistency</th> <td>    0.0121</td> <td>    0.003</td> <td>    4.457</td> <td> 0.000</td> <td>    0.007</td> <td>    0.017</td>\n",
              "</tr>\n",
              "<tr>\n",
              "  <th>HoursSleep</th>       <td>    0.0035</td> <td>    0.004</td> <td>    0.859</td> <td> 0.391</td> <td>   -0.004</td> <td>    0.011</td>\n",
              "</tr>\n",
              "</table>\n",
              "<table class=\"simpletable\">\n",
              "<tr>\n",
              "  <th>Omnibus:</th>       <td>18.681</td> <th>  Durbin-Watson:     </th> <td>   1.893</td>\n",
              "</tr>\n",
              "<tr>\n",
              "  <th>Prob(Omnibus):</th> <td> 0.000</td> <th>  Jarque-Bera (JB):  </th> <td>  23.635</td>\n",
              "</tr>\n",
              "<tr>\n",
              "  <th>Skew:</th>          <td>-0.374</td> <th>  Prob(JB):          </th> <td>7.37e-06</td>\n",
              "</tr>\n",
              "<tr>\n",
              "  <th>Kurtosis:</th>      <td> 3.797</td> <th>  Cond. No.          </th> <td>    946.</td>\n",
              "</tr>\n",
              "</table><br/><br/>Warnings:<br/>[1] Standard Errors assume that the covariance matrix of the errors is correctly specified."
            ],
            "text/plain": [
              "<class 'statsmodels.iolib.summary.Summary'>\n",
              "\"\"\"\n",
              "                            OLS Regression Results                            \n",
              "==============================================================================\n",
              "Dep. Variable:                Latency   R-squared:                       0.044\n",
              "Model:                            OLS   Adj. R-squared:                  0.040\n",
              "Method:                 Least Squares   F-statistic:                     10.80\n",
              "Date:                Wed, 21 Apr 2021   Prob (F-statistic):           2.58e-05\n",
              "Time:                        16:13:57   Log-Likelihood:                -648.08\n",
              "No. Observations:                 475   AIC:                             1302.\n",
              "Df Residuals:                     472   BIC:                             1315.\n",
              "Df Model:                           2                                         \n",
              "Covariance Type:            nonrobust                                         \n",
              "====================================================================================\n",
              "                       coef    std err          t      P>|t|      [0.025      0.975]\n",
              "------------------------------------------------------------------------------------\n",
              "Intercept            5.5234      0.364     15.162      0.000       4.808       6.239\n",
              "SleepConsistency     0.0121      0.003      4.457      0.000       0.007       0.017\n",
              "HoursSleep           0.0035      0.004      0.859      0.391      -0.004       0.011\n",
              "==============================================================================\n",
              "Omnibus:                       18.681   Durbin-Watson:                   1.893\n",
              "Prob(Omnibus):                  0.000   Jarque-Bera (JB):               23.635\n",
              "Skew:                          -0.374   Prob(JB):                     7.37e-06\n",
              "Kurtosis:                       3.797   Cond. No.                         946.\n",
              "==============================================================================\n",
              "\n",
              "Warnings:\n",
              "[1] Standard Errors assume that the covariance matrix of the errors is correctly specified.\n",
              "\"\"\""
            ]
          },
          "metadata": {
            "tags": []
          },
          "execution_count": 17
        }
      ]
    },
    {
      "cell_type": "markdown",
      "metadata": {
        "id": "WHKPRirMSbWl"
      },
      "source": [
        "Model Test A : Mediation (Results)\n",
        "* When running the models seen above, I tried to have Sleep Efficiency and Latency as the dependent variables with Hours of Sleep and Sleep Consistency as the metrics, in which for Efficiency, both were NOT statistically significant and for Latency, only Sleep Consistency was.\n",
        "\n",
        "* In result, neither of the metrics would be appropriate to use for Mediation therefore Mediation does not work."
      ]
    },
    {
      "cell_type": "markdown",
      "metadata": {
        "id": "_5Jwe8NLTpse"
      },
      "source": [
        "Model Test B: Confounding\n",
        "* In this case, A causes X AND A causes Y\n",
        "\n",
        "* This would be: Sleep Consistency/Hours of Sleep both are significant in predicting Sleep Efficiency and HRV.\n",
        "\n",
        "* Since Mediation failed, and we tested Sleep Consistency/Hours of Sleep to Efficiency and Latency, confounding will also not be valid as a relationship."
      ]
    },
    {
      "cell_type": "markdown",
      "metadata": {
        "id": "sQmV53R8UJds"
      },
      "source": [
        "As seen, my alternative relationships did not pass the statistically significance test.\n",
        "\n",
        "The only relationship that appeared to be valid upon testing was:\n",
        "* Reverse Causation where increase in HRV can be linked to increase in Sleep Efficiency and Latency.  \n",
        "* The logic behind this is invalid, since HRV is a response to the bodies autonomic nervous system and Sleep Efficiency and Quality in general can IMRPOVE HRV but the reverse logic is not valid in scientific terms based off many literature pieces."
      ]
    },
    {
      "cell_type": "markdown",
      "metadata": {
        "id": "Gb4glfBdVD8Z"
      },
      "source": [
        "# Write Up\n",
        "This assignment was based on the ability to find an article,news story, etc., with a claim of some sorts.  This claim could be valid or invalid, but the objective was to challenge this claim with an alternate causal relationship that could prove the data to be correct or incorrect depending on position.\n",
        " \n",
        "For this assignment, the article I found follows previous Modules topics, and that is Heart Rate Variability in Children 5-11, and how Sleep impacts there HRV levels and development.\n",
        " \n",
        "The reason I chose this article was because Sleep and an individuals bodies readiness and recovery have been of great interest of mine.  This topic aligns with Whoop's(fitness wearable company) beliefs when it comes to increasing HRV and in result, Recovery(topic for another Module).  The claim made in this article is valid, as I will explain, but the causal relationship could be investigated.\n",
        " \n",
        "In [*Children's Sleep and Autonomic Function: Low Sleep Quality Has an Impact on Heart Rate Variability*](https://academic.oup.com/sleep/article/36/12/1939/2709419), Michels et al. tackle a few metrics regarding Sleep.\n",
        "* Sleep Quality and Sleep Duration\n",
        "* Sleep Quality is made up of Sleep Efficiency (balance of percentage of time spend in the stages of Sleep), Latency (time from full wakefulness to sleep) and WASO (wake after sleep onset, which is time from sleep to full wakefulness).\n",
        " \n",
        "In the article, the authors conduct several tests comparing the results from different spectral power monitors for HRV recording, paired with those Sleep Quality metrics + Hours of sleep (Sleep Duration).  The results that were found helped the authors support their claim of (in summary) that sleep quality is more important that sleep duration for HRV, and that increasing Sleep Quality will have a positive correlation/statistically significant when predicting HRV.  In short, \"better\" sleep means higher HRV and in result, healthier children and efficient development.\n",
        " \n",
        "This claim is a simple causal relationship based off lecture slides, and it is logical as well based off experimentation and pure science (see Hills framework as well).  The claim is true from statistical values and valid based off logic.  My goal is to tackle what could cause Sleep Efficiency and Quality to increase, meaning that would have an extending impact on HRV as well.\n",
        " \n",
        "The limitation of this article and this module was based on the accessibility of the article's data.  The article did not provide data and searching online for related data sets proved to be unsuccessful.  The individuals in this study are children aged 5-11, which means parents have the right to keep their children's data private and out of reach from the public.  Due to this, I used my Whoop data (similar to other Modules) on my own sleep and HRV statistics.  The limitation is that the article used the data from Children where the results could be different from an Adult male such as myself.  The data in the article was N = 135 where my own data (while it is of one person) is N = 475 days of data which help my experimentation.\n",
        " \n",
        "The data frame I created was of the metrics the article used along with my own metric to use in the alternative causal relationship test.  The data frame I created consisted of:\n",
        " \n",
        "* HRV\n",
        "* Sleep Efficiency\n",
        "* Latency\n",
        "* Hours of Sleep\n",
        "* Sleep Consistency(this metric means over the previous nights, how far was I from my \"usual\" bedtime or wake time)\n",
        " \n",
        "After checking the data for any missing values and the shape to be consistent with the expectation (see EDA for specific values and thought process), I proceeded to work towards testing my data based off a Ordinary Least Square Regression model to confirm if my Whoop data was appropriate to use based off the models values found with HRV as the dependent variable.\n",
        " \n",
        "My first steps after checking the data set and frames structure was to create a few Visualizations.  Specifically, a heat map and scatter plot(s).  This was seen in lecture and inspired me to do the same. The heat map show correlation coefficients and the strength level for color hue.  This was helpful because I was able to display the various relationships between all 5 metrics.\n",
        " \n",
        "The second visualization was 4 individual scatter plots, all with HRV as the dependent variable and the other variable changing from Sleep Efficiency to Sleep Consistency.  The goal of this chart was to also display that the pure correlation between individual metrics could be weak but as a whole, could lead to a stronger model prediction.\n",
        " \n",
        "After the visualizations, I created an OLS model(based off of a python package and lecture's Notebook \"Multiple Regression\").  This model included HRV as the dependent variable.  I first checked the articles equation, and my model with my Whoop data followed correctly and while the statistical values were different from the Image in the EDA (the image was of the articles table), the metrics that were significant or not (based off of paired t test) were accurate.\n",
        " \n",
        "My next step was to find an alternate causal relationship.  The two mentioned in the EDA where Mediation (X causes A and A causes Y) and Confounding (A causes X and A causes Y).\n",
        "I was able to single out and change the dependent variable in the model to confirm or deny these alternate causal relationships.  The reason I chose those two were because Sleep Efficiency and Quality can be linked to other variables and including another metric could strengthen the article's claim.\n",
        " \n",
        "As seen in the EDA:\n",
        "* Model Test A consisted of the dependent variable being both Efficiency and Latency separately, with Sleep Consistency and Hours of sleep being the metrics.  This model disproved Mediation because (following logical steps where Efficiency can be caused by Sleep Consistency or Hours of sleep, not the other way around) Sleep Consistency or Hours of Sleep did not prove to be statistically significant when finding Sleep Efficiency or Latency consistently.\n",
        "* Due to the failed test above, confounding followed that A in this case is Sleep Consistency or Hours of Sleep, and neither proved to be significant in predicting Sleep Efficiency.  This failed the confounding relationship\n",
        " \n",
        "While I only tested two causal relationships in the EDA, I further investigated with flipping variables around and none were found to be valid. \n",
        " \n",
        "The only alternate causal relationship is the Reverse Causal , flipping the original claim.  This would mean that HRV or increase in HRV can lead to more quality sleep or better Sleep Quality.  This proved to be true statistically with Sleep Efficiency and Latency as the Dependent Variables with HRV as the sole metric, however this is not valid.  HRV is the body's autonomic nervous system response, and this metric and value can change based on several indicators, one being Sleep.  However based on Hills framework, the logic here is invalid and fails the alternate causal relationship which was the reverse causal.\n",
        " \n",
        "In summary, my alternate causal relationship experiments failed.  This could mean that the original claim and causal relationship given by the authors was not only correct statistically, but also the most valid relationship as well.\n",
        " \n",
        "\n"
      ]
    }
  ]
}